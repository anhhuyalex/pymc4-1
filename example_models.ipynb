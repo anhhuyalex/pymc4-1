{
 "cells": [
  {
   "cell_type": "code",
   "execution_count": 1,
   "metadata": {},
   "outputs": [],
   "source": [
    "import pymc4 as pm\n",
    "import tensorflow as tf\n",
    "import numpy as np\n",
    "import matplotlib.pyplot as plt"
   ]
  },
  {
   "cell_type": "code",
   "execution_count": 2,
   "metadata": {},
   "outputs": [],
   "source": [
    "config = tf.ConfigProto()\n",
    "config.graph_options.optimizer_options.global_jit_level = (\n",
    "    tf.OptimizerOptions.ON_1)\n",
    "config.intra_op_parallelism_threads = 1\n",
    "config.inter_op_parallelism_threads = 1\n",
    "sess = tf.InteractiveSession(config=config)"
   ]
  },
  {
   "cell_type": "markdown",
   "metadata": {},
   "source": [
    "# Linear Regression"
   ]
  },
  {
   "cell_type": "code",
   "execution_count": 3,
   "metadata": {},
   "outputs": [
    {
     "data": {
      "text/plain": [
       "{'sigma': 4.258111,\n",
       " 'Intercept': 9.655149,\n",
       " 'weight': 3.1631496,\n",
       " 'y': array([-5.5167084 , -7.952612  , -1.5601134 , -1.2874141 ,  0.32460308,\n",
       "        -4.3157973 ,  0.33471632, -4.4301014 , -7.1566343 , -4.940994  ,\n",
       "        -0.25612712, -1.5415602 ,  2.7236    , -3.8509178 ,  0.5439651 ,\n",
       "        -6.865728  ,  2.6331136 , -0.72919506,  1.5297073 ,  3.21514   ,\n",
       "        -1.5934671 ,  5.944141  ,  3.0594277 ,  1.2120215 ,  1.5937328 ,\n",
       "         4.23386   ,  6.8364124 , -1.922761  ,  1.2717962 ,  2.2777555 ,\n",
       "         5.545568  , 10.827419  , -3.3906841 , 10.942558  ,  7.6665792 ,\n",
       "        -0.26901007,  4.8275046 ,  5.2839794 , 12.964446  , 18.133781  ,\n",
       "        14.699654  , 13.105689  ,  7.8113303 , 10.807865  , 11.2816515 ,\n",
       "        15.297579  ,  0.22558022,  6.010298  ,  9.403929  ,  9.95819   ,\n",
       "         2.5106149 ,  7.4283485 , 13.703525  ,  5.8163853 ,  7.452306  ,\n",
       "        14.363668  , 13.058856  , 18.942518  , 10.040317  ,  8.453892  ,\n",
       "         9.463808  , 15.683676  ,  8.485954  , 14.01946   , 15.360854  ,\n",
       "        16.241343  , 12.466232  , 16.113651  ,  9.039564  , 10.878236  ,\n",
       "        19.893173  , 13.980428  , 15.6510935 , 21.609228  , 17.160376  ,\n",
       "        21.304005  , 11.872992  , 20.057575  , 24.009777  ,  9.82607   ,\n",
       "        20.17241   , 16.692778  , 29.975395  , 17.629507  , 20.873232  ,\n",
       "        11.664434  , 21.762474  , 23.442482  , 27.605888  , 23.523472  ,\n",
       "        23.46846   , 28.143795  , 20.228832  , 26.53696   , 27.882105  ,\n",
       "        22.24444   , 19.914694  , 27.62996   , 28.406422  , 22.984715  ],\n",
       "       dtype=float32)}"
      ]
     },
     "execution_count": 3,
     "metadata": {},
     "output_type": "execute_result"
    }
   ],
   "source": [
    "# Logp calculation for linear regression \n",
    "@pm.model\n",
    "def linreg(sd_prior='half_normal', n_points = 100):    \n",
    "    # Define priors\n",
    "    sigma = pm.HalfNormal('sigma', scale = 10)\n",
    "    intercept = pm.Normal('Intercept', 0, scale=10)\n",
    "    x_coeff = pm.Normal('weight', 0, scale = 5)\n",
    "    x = np.linspace(-5, 5, n_points)\n",
    "    \n",
    "    # Define likelihood\n",
    "    y = pm.Normal('y', loc=intercept + x_coeff * x, scale=sigma)\n",
    "    \n",
    "    \n",
    "model = linreg.configure()\n",
    "\n",
    "forward_sample = sess.run(model.forward_sample())\n",
    "\n",
    "forward_sample"
   ]
  },
  {
   "cell_type": "code",
   "execution_count": 4,
   "metadata": {},
   "outputs": [
    {
     "data": {
      "text/plain": [
       "<matplotlib.collections.PathCollection at 0xb4265c3c8>"
      ]
     },
     "execution_count": 4,
     "metadata": {},
     "output_type": "execute_result"
    },
    {
     "data": {
      "image/png": "[encoded data removed]",
      "text/plain": [
       "<Figure size 432x288 with 1 Axes>"
      ]
     },
     "metadata": {
      "needs_background": "light"
     },
     "output_type": "display_data"
    }
   ],
   "source": [
    "plt.scatter(np.linspace(-5, 5, 100), forward_sample['y'])"
   ]
  },
  {
   "cell_type": "code",
   "execution_count": 5,
   "metadata": {},
   "outputs": [],
   "source": [
    "func = model.make_log_prob_function()\n",
    "sigma = tf.placeholder(tf.float32)\n",
    "intercept = tf.placeholder(tf.float32)\n",
    "x_coeff = tf.placeholder(tf.float32)\n",
    "y = tf.placeholder(tf.float32, shape=(100,))\n",
    "logp = func(sigma, intercept, x_coeff, y)\n"
   ]
  },
  {
   "cell_type": "code",
   "execution_count": 6,
   "metadata": {},
   "outputs": [
    {
     "data": {
      "text/plain": [
       "-295.27667"
      ]
     },
     "execution_count": 6,
     "metadata": {},
     "output_type": "execute_result"
    }
   ],
   "source": [
    "feed_dict = {sigma: forward_sample['sigma'], \n",
    "            intercept: forward_sample['Intercept'], \n",
    "            x_coeff: forward_sample['weight'], \n",
    "            y: forward_sample['y']}\n",
    "\n",
    "sess.run(logp, feed_dict=feed_dict)"
   ]
  },
  {
   "cell_type": "code",
   "execution_count": 7,
   "metadata": {
    "scrolled": false
   },
   "outputs": [
    {
     "name": "stderr",
     "output_type": "stream",
     "text": [
      "/anaconda3/envs/GSoC/lib/python3.6/subprocess.py:766: ResourceWarning: subprocess 2972 is still running\n",
      "  ResourceWarning, source=self)\n",
      "/anaconda3/envs/GSoC/lib/python3.6/site-packages/theano/misc/cpucount.py:48: ResourceWarning: unclosed file <_io.TextIOWrapper name=59 encoding='UTF-8'>\n",
      "  num = int(os.popen('sysctl -n hw.ncpu').read())\n",
      "WARNING (theano.configdefaults): install mkl with `conda install mkl-service`: No module named 'mkl'\n",
      "/anaconda3/envs/GSoC/lib/python3.6/site-packages/theano/tests/main.py:6: DeprecationWarning: Importing from numpy.testing.nosetester is deprecated, import from numpy.testing instead.\n",
      "  from numpy.testing.nosetester import NoseTester\n"
     ]
    }
   ],
   "source": [
    "import pymc3 as pm3"
   ]
  },
  {
   "cell_type": "code",
   "execution_count": 8,
   "metadata": {
    "scrolled": false
   },
   "outputs": [
    {
     "name": "stderr",
     "output_type": "stream",
     "text": [
      "/anaconda3/envs/GSoC/lib/python3.6/site-packages/theano/gof/cmodule.py:274: DeprecationWarning: SO is deprecated, use EXT_SUFFIX\n",
      "  dist_suffix = distutils.sysconfig.get_config_var(\"SO\")\n",
      "/anaconda3/envs/GSoC/lib/python3.6/site-packages/theano/gof/cmodule.py:274: DeprecationWarning: SO is deprecated, use EXT_SUFFIX\n",
      "  dist_suffix = distutils.sysconfig.get_config_var(\"SO\")\n",
      "/anaconda3/envs/GSoC/lib/python3.6/site-packages/theano/gof/cmodule.py:274: DeprecationWarning: SO is deprecated, use EXT_SUFFIX\n",
      "  dist_suffix = distutils.sysconfig.get_config_var(\"SO\")\n",
      "/anaconda3/envs/GSoC/lib/python3.6/site-packages/theano/gof/cmodule.py:274: DeprecationWarning: SO is deprecated, use EXT_SUFFIX\n",
      "  dist_suffix = distutils.sysconfig.get_config_var(\"SO\")\n",
      "/anaconda3/envs/GSoC/lib/python3.6/site-packages/theano/gof/cmodule.py:274: DeprecationWarning: SO is deprecated, use EXT_SUFFIX\n",
      "  dist_suffix = distutils.sysconfig.get_config_var(\"SO\")\n",
      "/anaconda3/envs/GSoC/lib/python3.6/site-packages/theano/gof/cmodule.py:274: DeprecationWarning: SO is deprecated, use EXT_SUFFIX\n",
      "  dist_suffix = distutils.sysconfig.get_config_var(\"SO\")\n",
      "/anaconda3/envs/GSoC/lib/python3.6/site-packages/theano/gof/cmodule.py:274: DeprecationWarning: SO is deprecated, use EXT_SUFFIX\n",
      "  dist_suffix = distutils.sysconfig.get_config_var(\"SO\")\n",
      "/anaconda3/envs/GSoC/lib/python3.6/site-packages/theano/gof/cmodule.py:274: DeprecationWarning: SO is deprecated, use EXT_SUFFIX\n",
      "  dist_suffix = distutils.sysconfig.get_config_var(\"SO\")\n",
      "/anaconda3/envs/GSoC/lib/python3.6/site-packages/theano/gof/cmodule.py:274: DeprecationWarning: SO is deprecated, use EXT_SUFFIX\n",
      "  dist_suffix = distutils.sysconfig.get_config_var(\"SO\")\n",
      "/anaconda3/envs/GSoC/lib/python3.6/site-packages/theano/gof/cmodule.py:274: DeprecationWarning: SO is deprecated, use EXT_SUFFIX\n",
      "  dist_suffix = distutils.sysconfig.get_config_var(\"SO\")\n",
      "/anaconda3/envs/GSoC/lib/python3.6/site-packages/theano/gof/cmodule.py:274: DeprecationWarning: SO is deprecated, use EXT_SUFFIX\n",
      "  dist_suffix = distutils.sysconfig.get_config_var(\"SO\")\n",
      "/anaconda3/envs/GSoC/lib/python3.6/site-packages/theano/gof/cmodule.py:274: DeprecationWarning: SO is deprecated, use EXT_SUFFIX\n",
      "  dist_suffix = distutils.sysconfig.get_config_var(\"SO\")\n",
      "/anaconda3/envs/GSoC/lib/python3.6/site-packages/theano/gof/cmodule.py:274: DeprecationWarning: SO is deprecated, use EXT_SUFFIX\n",
      "  dist_suffix = distutils.sysconfig.get_config_var(\"SO\")\n",
      "/anaconda3/envs/GSoC/lib/python3.6/site-packages/theano/gof/cmodule.py:274: DeprecationWarning: SO is deprecated, use EXT_SUFFIX\n",
      "  dist_suffix = distutils.sysconfig.get_config_var(\"SO\")\n",
      "/anaconda3/envs/GSoC/lib/python3.6/site-packages/theano/gof/cmodule.py:274: DeprecationWarning: SO is deprecated, use EXT_SUFFIX\n",
      "  dist_suffix = distutils.sysconfig.get_config_var(\"SO\")\n",
      "/anaconda3/envs/GSoC/lib/python3.6/site-packages/theano/gof/cmodule.py:274: DeprecationWarning: SO is deprecated, use EXT_SUFFIX\n",
      "  dist_suffix = distutils.sysconfig.get_config_var(\"SO\")\n",
      "/anaconda3/envs/GSoC/lib/python3.6/site-packages/theano/gof/cmodule.py:274: DeprecationWarning: SO is deprecated, use EXT_SUFFIX\n",
      "  dist_suffix = distutils.sysconfig.get_config_var(\"SO\")\n",
      "/anaconda3/envs/GSoC/lib/python3.6/site-packages/theano/gof/cmodule.py:274: DeprecationWarning: SO is deprecated, use EXT_SUFFIX\n",
      "  dist_suffix = distutils.sysconfig.get_config_var(\"SO\")\n",
      "/anaconda3/envs/GSoC/lib/python3.6/site-packages/theano/gof/cmodule.py:274: DeprecationWarning: SO is deprecated, use EXT_SUFFIX\n",
      "  dist_suffix = distutils.sysconfig.get_config_var(\"SO\")\n",
      "/anaconda3/envs/GSoC/lib/python3.6/site-packages/theano/gof/cmodule.py:274: DeprecationWarning: SO is deprecated, use EXT_SUFFIX\n",
      "  dist_suffix = distutils.sysconfig.get_config_var(\"SO\")\n",
      "/anaconda3/envs/GSoC/lib/python3.6/site-packages/theano/gof/cmodule.py:274: DeprecationWarning: SO is deprecated, use EXT_SUFFIX\n",
      "  dist_suffix = distutils.sysconfig.get_config_var(\"SO\")\n",
      "/anaconda3/envs/GSoC/lib/python3.6/site-packages/theano/gof/cmodule.py:274: DeprecationWarning: SO is deprecated, use EXT_SUFFIX\n",
      "  dist_suffix = distutils.sysconfig.get_config_var(\"SO\")\n",
      "/anaconda3/envs/GSoC/lib/python3.6/site-packages/theano/gof/cmodule.py:274: DeprecationWarning: SO is deprecated, use EXT_SUFFIX\n",
      "  dist_suffix = distutils.sysconfig.get_config_var(\"SO\")\n",
      "/anaconda3/envs/GSoC/lib/python3.6/site-packages/theano/gof/cmodule.py:274: DeprecationWarning: SO is deprecated, use EXT_SUFFIX\n",
      "  dist_suffix = distutils.sysconfig.get_config_var(\"SO\")\n",
      "/anaconda3/envs/GSoC/lib/python3.6/site-packages/theano/gof/cmodule.py:274: DeprecationWarning: SO is deprecated, use EXT_SUFFIX\n",
      "  dist_suffix = distutils.sysconfig.get_config_var(\"SO\")\n",
      "/anaconda3/envs/GSoC/lib/python3.6/site-packages/theano/gof/cmodule.py:274: DeprecationWarning: SO is deprecated, use EXT_SUFFIX\n",
      "  dist_suffix = distutils.sysconfig.get_config_var(\"SO\")\n",
      "/anaconda3/envs/GSoC/lib/python3.6/site-packages/theano/gof/cmodule.py:274: DeprecationWarning: SO is deprecated, use EXT_SUFFIX\n",
      "  dist_suffix = distutils.sysconfig.get_config_var(\"SO\")\n",
      "/anaconda3/envs/GSoC/lib/python3.6/site-packages/theano/gof/cmodule.py:274: DeprecationWarning: SO is deprecated, use EXT_SUFFIX\n",
      "  dist_suffix = distutils.sysconfig.get_config_var(\"SO\")\n",
      "/anaconda3/envs/GSoC/lib/python3.6/site-packages/theano/gof/cmodule.py:274: DeprecationWarning: SO is deprecated, use EXT_SUFFIX\n",
      "  dist_suffix = distutils.sysconfig.get_config_var(\"SO\")\n",
      "/anaconda3/envs/GSoC/lib/python3.6/site-packages/theano/gof/cmodule.py:274: DeprecationWarning: SO is deprecated, use EXT_SUFFIX\n",
      "  dist_suffix = distutils.sysconfig.get_config_var(\"SO\")\n",
      "/anaconda3/envs/GSoC/lib/python3.6/site-packages/theano/gof/cmodule.py:274: DeprecationWarning: SO is deprecated, use EXT_SUFFIX\n",
      "  dist_suffix = distutils.sysconfig.get_config_var(\"SO\")\n",
      "/anaconda3/envs/GSoC/lib/python3.6/site-packages/theano/gof/cmodule.py:274: DeprecationWarning: SO is deprecated, use EXT_SUFFIX\n",
      "  dist_suffix = distutils.sysconfig.get_config_var(\"SO\")\n",
      "/anaconda3/envs/GSoC/lib/python3.6/site-packages/theano/gof/cmodule.py:274: DeprecationWarning: SO is deprecated, use EXT_SUFFIX\n",
      "  dist_suffix = distutils.sysconfig.get_config_var(\"SO\")\n",
      "/anaconda3/envs/GSoC/lib/python3.6/site-packages/theano/gof/cmodule.py:274: DeprecationWarning: SO is deprecated, use EXT_SUFFIX\n",
      "  dist_suffix = distutils.sysconfig.get_config_var(\"SO\")\n",
      "/anaconda3/envs/GSoC/lib/python3.6/site-packages/theano/gof/cmodule.py:274: DeprecationWarning: SO is deprecated, use EXT_SUFFIX\n",
      "  dist_suffix = distutils.sysconfig.get_config_var(\"SO\")\n",
      "/anaconda3/envs/GSoC/lib/python3.6/site-packages/theano/gof/cmodule.py:274: DeprecationWarning: SO is deprecated, use EXT_SUFFIX\n",
      "  dist_suffix = distutils.sysconfig.get_config_var(\"SO\")\n",
      "/anaconda3/envs/GSoC/lib/python3.6/site-packages/theano/gof/cmodule.py:274: DeprecationWarning: SO is deprecated, use EXT_SUFFIX\n",
      "  dist_suffix = distutils.sysconfig.get_config_var(\"SO\")\n"
     ]
    },
    {
     "data": {
      "text/plain": [
       "array(-295.27671203)"
      ]
     },
     "execution_count": 8,
     "metadata": {},
     "output_type": "execute_result"
    }
   ],
   "source": [
    "n_points = 100\n",
    "with pm3.Model() as model3: \n",
    "    # Define priors\n",
    "    sigma = pm3.HalfNormal('sigma', sd = 10, observed=forward_sample['sigma'])\n",
    "    intercept = pm3.Normal('Intercept', 0, 10, observed=forward_sample['Intercept'])\n",
    "    x_coeff = pm3.Normal('weight', 0, 5, observed=forward_sample['weight'])\n",
    "    x = np.linspace(-5, 5, n_points)\n",
    "    \n",
    "    # Define likelihood\n",
    "    y = pm3.Normal('y', intercept + x_coeff * x, sigma, observed=forward_sample['y'])\n",
    "    \n",
    "model3.logp()"
   ]
  },
  {
   "cell_type": "markdown",
   "metadata": {},
   "source": [
    "# Centered-Eight "
   ]
  },
  {
   "cell_type": "code",
   "execution_count": 9,
   "metadata": {},
   "outputs": [
    {
     "data": {
      "text/plain": [
       "{'mu': -2.7715697,\n",
       " 'tau': 21.973877,\n",
       " 'theta': array([  1.0564883,  -6.475585 ,  10.381193 , -44.997135 , -32.70435  ,\n",
       "         -3.2997704, -35.549458 ,  -9.76494  ], dtype=float32),\n",
       " 'y': array([  3.7928905,  -4.10815  ,  18.305689 , -38.89537  , -23.404127 ,\n",
       "         -2.6282754, -43.945015 ,   7.5276814], dtype=float32)}"
      ]
     },
     "execution_count": 9,
     "metadata": {},
     "output_type": "execute_result"
    }
   ],
   "source": [
    "schools = np.array([28.,  8., -3.,  7., -1.,  1., 18., 12.])\n",
    "sigma = tf.to_float(np.array([15., 10., 16., 11.,  9., 11., 10., 18.]))\n",
    "n_points = 8\n",
    "\n",
    "@pm.model\n",
    "def centered_eight(n_points = n_points):    \n",
    "    # Define priors\n",
    "    mu = pm.Normal('mu', loc = 0, scale = 5)\n",
    "    tau = pm.HalfCauchy('tau', loc = 0, scale = 5)\n",
    "    theta = pm.Normal('theta', loc = tf.fill([8], mu.as_tensor()), scale = tf.fill([8], tau.as_tensor()))\n",
    "    # Awkward syntax: Feature?\n",
    "    \n",
    "    # Define likelihood\n",
    "    y = pm.Normal('y', loc = theta, scale = sigma)\n",
    "    \n",
    "model = centered_eight.configure()\n",
    "\n",
    "forward_sample = sess.run(model.forward_sample())\n",
    "\n",
    "forward_sample"
   ]
  },
  {
   "cell_type": "code",
   "execution_count": 10,
   "metadata": {},
   "outputs": [],
   "source": [
    "func = model.make_log_prob_function()\n",
    "mu = tf.placeholder(tf.float32)\n",
    "tau = tf.placeholder(tf.float32)\n",
    "theta = tf.placeholder(tf.float32, shape=(n_points,))\n",
    "y = tf.placeholder(tf.float32, shape=(n_points,))\n",
    "logp = func(mu, tau, theta, y)"
   ]
  },
  {
   "cell_type": "code",
   "execution_count": 11,
   "metadata": {},
   "outputs": [
    {
     "data": {
      "text/plain": [
       "-106.82437"
      ]
     },
     "execution_count": 11,
     "metadata": {},
     "output_type": "execute_result"
    }
   ],
   "source": [
    "feed_dict = {mu: forward_sample['mu'], \n",
    "            tau: forward_sample['tau'], \n",
    "            theta: forward_sample['theta'], \n",
    "            y: schools}\n",
    "\n",
    "sess.run(logp, feed_dict=feed_dict)"
   ]
  },
  {
   "cell_type": "code",
   "execution_count": 12,
   "metadata": {
    "scrolled": false
   },
   "outputs": [
    {
     "name": "stderr",
     "output_type": "stream",
     "text": [
      "/anaconda3/envs/GSoC/lib/python3.6/site-packages/theano/gof/cmodule.py:274: DeprecationWarning: SO is deprecated, use EXT_SUFFIX\n",
      "  dist_suffix = distutils.sysconfig.get_config_var(\"SO\")\n",
      "/anaconda3/envs/GSoC/lib/python3.6/site-packages/theano/gof/cmodule.py:274: DeprecationWarning: SO is deprecated, use EXT_SUFFIX\n",
      "  dist_suffix = distutils.sysconfig.get_config_var(\"SO\")\n",
      "/anaconda3/envs/GSoC/lib/python3.6/site-packages/theano/gof/cmodule.py:274: DeprecationWarning: SO is deprecated, use EXT_SUFFIX\n",
      "  dist_suffix = distutils.sysconfig.get_config_var(\"SO\")\n",
      "/anaconda3/envs/GSoC/lib/python3.6/site-packages/theano/gof/cmodule.py:274: DeprecationWarning: SO is deprecated, use EXT_SUFFIX\n",
      "  dist_suffix = distutils.sysconfig.get_config_var(\"SO\")\n",
      "/anaconda3/envs/GSoC/lib/python3.6/site-packages/theano/gof/cmodule.py:274: DeprecationWarning: SO is deprecated, use EXT_SUFFIX\n",
      "  dist_suffix = distutils.sysconfig.get_config_var(\"SO\")\n",
      "/anaconda3/envs/GSoC/lib/python3.6/site-packages/theano/gof/cmodule.py:274: DeprecationWarning: SO is deprecated, use EXT_SUFFIX\n",
      "  dist_suffix = distutils.sysconfig.get_config_var(\"SO\")\n",
      "/anaconda3/envs/GSoC/lib/python3.6/site-packages/theano/gof/cmodule.py:274: DeprecationWarning: SO is deprecated, use EXT_SUFFIX\n",
      "  dist_suffix = distutils.sysconfig.get_config_var(\"SO\")\n",
      "/anaconda3/envs/GSoC/lib/python3.6/site-packages/theano/gof/cmodule.py:274: DeprecationWarning: SO is deprecated, use EXT_SUFFIX\n",
      "  dist_suffix = distutils.sysconfig.get_config_var(\"SO\")\n",
      "/anaconda3/envs/GSoC/lib/python3.6/site-packages/theano/gof/cmodule.py:274: DeprecationWarning: SO is deprecated, use EXT_SUFFIX\n",
      "  dist_suffix = distutils.sysconfig.get_config_var(\"SO\")\n",
      "/anaconda3/envs/GSoC/lib/python3.6/site-packages/theano/gof/cmodule.py:274: DeprecationWarning: SO is deprecated, use EXT_SUFFIX\n",
      "  dist_suffix = distutils.sysconfig.get_config_var(\"SO\")\n",
      "/anaconda3/envs/GSoC/lib/python3.6/site-packages/theano/gof/cmodule.py:274: DeprecationWarning: SO is deprecated, use EXT_SUFFIX\n",
      "  dist_suffix = distutils.sysconfig.get_config_var(\"SO\")\n",
      "/anaconda3/envs/GSoC/lib/python3.6/site-packages/theano/gof/cmodule.py:274: DeprecationWarning: SO is deprecated, use EXT_SUFFIX\n",
      "  dist_suffix = distutils.sysconfig.get_config_var(\"SO\")\n",
      "/anaconda3/envs/GSoC/lib/python3.6/site-packages/theano/gof/cmodule.py:274: DeprecationWarning: SO is deprecated, use EXT_SUFFIX\n",
      "  dist_suffix = distutils.sysconfig.get_config_var(\"SO\")\n",
      "/anaconda3/envs/GSoC/lib/python3.6/site-packages/theano/gof/cmodule.py:274: DeprecationWarning: SO is deprecated, use EXT_SUFFIX\n",
      "  dist_suffix = distutils.sysconfig.get_config_var(\"SO\")\n",
      "/anaconda3/envs/GSoC/lib/python3.6/site-packages/theano/gof/cmodule.py:274: DeprecationWarning: SO is deprecated, use EXT_SUFFIX\n",
      "  dist_suffix = distutils.sysconfig.get_config_var(\"SO\")\n",
      "/anaconda3/envs/GSoC/lib/python3.6/site-packages/theano/gof/cmodule.py:274: DeprecationWarning: SO is deprecated, use EXT_SUFFIX\n",
      "  dist_suffix = distutils.sysconfig.get_config_var(\"SO\")\n",
      "/anaconda3/envs/GSoC/lib/python3.6/site-packages/theano/gof/cmodule.py:274: DeprecationWarning: SO is deprecated, use EXT_SUFFIX\n",
      "  dist_suffix = distutils.sysconfig.get_config_var(\"SO\")\n",
      "/anaconda3/envs/GSoC/lib/python3.6/site-packages/theano/gof/cmodule.py:274: DeprecationWarning: SO is deprecated, use EXT_SUFFIX\n",
      "  dist_suffix = distutils.sysconfig.get_config_var(\"SO\")\n",
      "/anaconda3/envs/GSoC/lib/python3.6/site-packages/theano/gof/cmodule.py:274: DeprecationWarning: SO is deprecated, use EXT_SUFFIX\n",
      "  dist_suffix = distutils.sysconfig.get_config_var(\"SO\")\n"
     ]
    },
    {
     "data": {
      "text/plain": [
       "array(-106.82437224)"
      ]
     },
     "execution_count": 12,
     "metadata": {},
     "output_type": "execute_result"
    }
   ],
   "source": [
    "sigma = np.array([15., 10., 16., 11.,  9., 11., 10., 18.])\n",
    "with pm3.Model() as model3: \n",
    "    # Define priors\n",
    "    mu = pm3.Normal('mu', 0, sd = 5, observed=forward_sample['mu'])\n",
    "    tau = pm3.HalfCauchy('Intercept', 5, observed=forward_sample['tau'])\n",
    "    theta = pm3.Normal('weight', mu, tau, observed=forward_sample['theta'])\n",
    "    \n",
    "    # Define likelihood\n",
    "    y = pm3.Normal('y', theta, sigma, observed=schools)\n",
    "    \n",
    "model3.logp()"
   ]
  }
 ],
 "metadata": {
  "kernelspec": {
   "display_name": "GSoC",
   "language": "python",
   "name": "gsoc"
  },
  "language_info": {
   "codemirror_mode": {
    "name": "ipython",
    "version": 3
   },
   "file_extension": ".py",
   "mimetype": "text/x-python",
   "name": "python",
   "nbconvert_exporter": "python",
   "pygments_lexer": "ipython3",
   "version": "3.6.6"
  }
 },
 "nbformat": 4,
 "nbformat_minor": 2
}
