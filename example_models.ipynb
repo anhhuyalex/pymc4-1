{
 "cells": [
  {
   "cell_type": "code",
   "execution_count": 1,
   "metadata": {},
   "outputs": [],
   "source": [
    "import pymc4 as pm\n",
    "import tensorflow as tf\n",
    "import numpy as np\n",
    "import matplotlib.pyplot as plt"
   ]
  },
  {
   "cell_type": "code",
   "execution_count": 16,
   "metadata": {},
   "outputs": [],
   "source": [
    "config = tf.ConfigProto()\n",
    "config.graph_options.optimizer_options.global_jit_level = (\n",
    "    tf.OptimizerOptions.ON_1)\n",
    "config.intra_op_parallelism_threads = 1\n",
    "config.inter_op_parallelism_threads = 1\n",
    "sess = tf.InteractiveSession(config=config)"
   ]
  },
  {
   "cell_type": "markdown",
   "metadata": {},
   "source": [
    "# Linear Regression"
   ]
  },
  {
   "cell_type": "code",
   "execution_count": null,
   "metadata": {},
   "outputs": [],
   "source": [
    "# Logp calculation for linear regression \n",
    "@pm.model\n",
    "def linreg(sd_prior='half_normal', n_points = 100):    \n",
    "    # Define priors\n",
    "    sigma = pm.HalfNormal('sigma', scale = 10)\n",
    "    intercept = pm.Normal('Intercept', 0, scale=10)\n",
    "    x_coeff = pm.Normal('weight', 0, scale = 5)\n",
    "    x = np.linspace(-5, 5, n_points)\n",
    "    \n",
    "    # Define likelihood\n",
    "    y = pm.Normal('y', loc=intercept + x_coeff * x, scale=sigma)\n",
    "    \n",
    "    \n",
    "model = linreg.configure()\n",
    "\n",
    "forward_sample = sess.run(model.forward_sample())\n",
    "\n",
    "forward_sample"
   ]
  },
  {
   "cell_type": "code",
   "execution_count": null,
   "metadata": {},
   "outputs": [],
   "source": [
    "plt.scatter(np.linspace(-5, 5, 100), forward_sample['y'])"
   ]
  },
  {
   "cell_type": "code",
   "execution_count": null,
   "metadata": {},
   "outputs": [],
   "source": [
    "func = model.make_log_prob_function()\n",
    "sigma = tf.placeholder(tf.float32)\n",
    "intercept = tf.placeholder(tf.float32)\n",
    "x_coeff = tf.placeholder(tf.float32)\n",
    "y = tf.placeholder(tf.float32, shape=(100,))\n",
    "logp = func(sigma, intercept, x_coeff, y)\n"
   ]
  },
  {
   "cell_type": "code",
   "execution_count": null,
   "metadata": {},
   "outputs": [],
   "source": [
    "feed_dict = {sigma: forward_sample['sigma'], \n",
    "            intercept: forward_sample['Intercept'], \n",
    "            x_coeff: forward_sample['weight'], \n",
    "            y: forward_sample['y']}\n",
    "\n",
    "sess.run(logp, feed_dict=feed_dict)"
   ]
  },
  {
   "cell_type": "code",
   "execution_count": null,
   "metadata": {
    "scrolled": false
   },
   "outputs": [],
   "source": [
    "import pymc3 as pm3"
   ]
  },
  {
   "cell_type": "code",
   "execution_count": null,
   "metadata": {
    "scrolled": false
   },
   "outputs": [],
   "source": [
    "n_points = 100\n",
    "with pm3.Model() as model3: \n",
    "    # Define priors\n",
    "    sigma = pm3.HalfNormal('sigma', sd = 10, observed=forward_sample['sigma'])\n",
    "    intercept = pm3.Normal('Intercept', 0, 10, observed=forward_sample['Intercept'])\n",
    "    x_coeff = pm3.Normal('weight', 0, 5, observed=forward_sample['weight'])\n",
    "    x = np.linspace(-5, 5, n_points)\n",
    "    \n",
    "    # Define likelihood\n",
    "    y = pm3.Normal('y', intercept + x_coeff * x, sigma, observed=forward_sample['y'])\n",
    "    \n",
    "model3.logp()"
   ]
  },
  {
   "cell_type": "markdown",
   "metadata": {},
   "source": [
    "# Centered-Eight "
   ]
  },
  {
   "cell_type": "code",
   "execution_count": null,
   "metadata": {},
   "outputs": [],
   "source": [
    "schools = np.array([28.,  8., -3.,  7., -1.,  1., 18., 12.])\n",
    "sigma = tf.to_float(np.array([15., 10., 16., 11.,  9., 11., 10., 18.]))\n",
    "n_points = 8\n",
    "\n",
    "@pm.model\n",
    "def centered_eight(n_points = n_points):    \n",
    "    # Define priors\n",
    "    mu = pm.Normal('mu', loc = 0, scale = 5)\n",
    "    tau = pm.HalfCauchy('tau', loc = 0, scale = 5)\n",
    "    theta = pm.Normal('theta', loc = tf.fill([8], mu.as_tensor()), scale = tf.fill([8], tau.as_tensor()))\n",
    "    # Awkward syntax: Feature?\n",
    "    \n",
    "    # Define likelihood\n",
    "    y = pm.Normal('y', loc = theta, scale = sigma)\n",
    "    \n",
    "model = centered_eight.configure()\n",
    "\n",
    "forward_sample = sess.run(model.forward_sample())\n",
    "\n",
    "forward_sample"
   ]
  },
  {
   "cell_type": "code",
   "execution_count": null,
   "metadata": {},
   "outputs": [],
   "source": [
    "func = model.make_log_prob_function()\n",
    "mu = tf.placeholder(tf.float32)\n",
    "tau = tf.placeholder(tf.float32)\n",
    "theta = tf.placeholder(tf.float32, shape=(n_points,))\n",
    "y = tf.placeholder(tf.float32, shape=(n_points,))\n",
    "logp = func(mu, tau, theta, y)"
   ]
  },
  {
   "cell_type": "code",
   "execution_count": null,
   "metadata": {},
   "outputs": [],
   "source": [
    "feed_dict = {mu: forward_sample['mu'], \n",
    "            tau: forward_sample['tau'], \n",
    "            theta: forward_sample['theta'], \n",
    "            y: schools}\n",
    "\n",
    "sess.run(logp, feed_dict=feed_dict)"
   ]
  },
  {
   "cell_type": "code",
   "execution_count": null,
   "metadata": {
    "scrolled": false
   },
   "outputs": [],
   "source": [
    "sigma = np.array([15., 10., 16., 11.,  9., 11., 10., 18.])\n",
    "with pm3.Model() as model3: \n",
    "    # Define priors\n",
    "    mu = pm3.Normal('mu', 0, sd = 5, observed=forward_sample['mu'])\n",
    "    tau = pm3.HalfCauchy('Intercept', 5, observed=forward_sample['tau'])\n",
    "    theta = pm3.Normal('weight', mu, tau, observed=forward_sample['theta'])\n",
    "    \n",
    "    # Define likelihood\n",
    "    y = pm3.Normal('y', theta, sigma, observed=schools)\n",
    "    \n",
    "model3.logp()"
   ]
  }
 ],
 "metadata": {
  "kernelspec": {
   "display_name": "GSoC",
   "language": "python",
   "name": "gsoc"
  },
  "language_info": {
   "codemirror_mode": {
    "name": "ipython",
    "version": 3
   },
   "file_extension": ".py",
   "mimetype": "text/x-python",
   "name": "python",
   "nbconvert_exporter": "python",
   "pygments_lexer": "ipython3",
   "version": "3.6.6"
  }
 },
 "nbformat": 4,
 "nbformat_minor": 2
}
