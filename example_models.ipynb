{
 "cells": [
  {
   "cell_type": "code",
   "execution_count": 1,
   "metadata": {},
   "outputs": [],
   "source": [
    "import pymc4 as pm\n",
    "import tensorflow as tf\n",
    "import numpy as np\n",
    "import matplotlib.pyplot as plt"
   ]
  },
  {
   "cell_type": "code",
   "execution_count": 2,
   "metadata": {},
   "outputs": [],
   "source": [
    "config = tf.ConfigProto()\n",
    "config.graph_options.optimizer_options.global_jit_level = (\n",
    "    tf.OptimizerOptions.ON_1)\n",
    "config.intra_op_parallelism_threads = 1\n",
    "config.inter_op_parallelism_threads = 1\n",
    "sess = tf.InteractiveSession(config=config)"
   ]
  },
  {
   "cell_type": "code",
   "execution_count": 3,
   "metadata": {},
   "outputs": [
    {
     "data": {
      "text/plain": [
       "{'sigma': 14.084137,\n",
       " 'Intercept': -15.912866,\n",
       " 'weight': -3.5392892,\n",
       " 'y': array([ 13.990862  ,  16.006577  ,   2.033938  ,   0.5904664 ,\n",
       "          9.957224  ,   9.361367  ,  12.154184  ,  24.72681   ,\n",
       "         -5.8464837 ,  21.918232  , -24.289982  ,  16.87201   ,\n",
       "        -35.4403    , -10.133292  ,   3.7038345 ,  -9.285144  ,\n",
       "        -30.131893  ,   9.849411  , -10.70291   , -27.810795  ,\n",
       "          7.8718843 , -18.42009   ,  -0.90458727, -17.58231   ,\n",
       "         22.003012  ,  -6.592058  ,   5.769926  , -16.540697  ,\n",
       "        -22.478647  ,   5.469839  , -24.127476  , -28.478394  ,\n",
       "        -30.298954  ,  12.817571  ,  -2.8891902 , -22.484737  ,\n",
       "          8.570807  ,  18.812664  , -24.974136  ,  -0.8079338 ,\n",
       "         20.022888  , -11.108465  ,   1.421485  , -12.649093  ,\n",
       "        -16.071373  , -25.265276  , -18.485718  , -14.892247  ,\n",
       "        -18.14464   , -10.422589  ,  -6.1294146 , -26.90367   ,\n",
       "        -24.541529  ,   3.8628998 , -31.02291   ,   0.57263756,\n",
       "         -9.977322  , -13.046449  , -13.364414  , -14.791997  ,\n",
       "        -13.05102   , -16.199451  , -56.523243  , -55.492558  ,\n",
       "         -8.236871  , -16.22083   , -28.804468  ,  -4.9935017 ,\n",
       "        -13.711151  , -34.242844  ,  -7.275982  , -31.602     ,\n",
       "        -28.779919  , -12.530149  , -35.191833  , -40.789703  ,\n",
       "        -52.110798  , -39.871655  , -64.3014    , -26.244274  ,\n",
       "        -35.20186   , -42.264668  , -63.983025  , -21.291817  ,\n",
       "        -46.826965  , -25.739456  , -28.743439  , -30.583838  ,\n",
       "        -28.04544   , -20.997166  ,   5.4202576 , -34.330555  ,\n",
       "        -37.46066   , -46.453926  , -23.015575  , -36.267277  ,\n",
       "        -21.788605  , -16.591034  , -24.996483  , -35.37559   ],\n",
       "       dtype=float32)}"
      ]
     },
     "execution_count": 3,
     "metadata": {},
     "output_type": "execute_result"
    }
   ],
   "source": [
    "# Logp calculation for linear regression \n",
    "@pm.model\n",
    "def linreg(sd_prior='half_normal', n_points = 100):    \n",
    "    # Define priors\n",
    "    sigma = pm.HalfNormal('sigma', scale = 10)\n",
    "    intercept = pm.Normal('Intercept', 0, scale=10)\n",
    "    x_coeff = pm.Normal('weight', 0, scale = 5)\n",
    "    x = np.linspace(-5, 5, n_points)\n",
    "    \n",
    "    # Define likelihood\n",
    "    y = pm.Normal('y', loc=intercept + x_coeff * x, scale=sigma)\n",
    "    \n",
    "    \n",
    "model = linreg.configure()\n",
    "\n",
    "forward_sample = sess.run(model.forward_sample())\n",
    "\n",
    "forward_sample"
   ]
  },
  {
   "cell_type": "code",
   "execution_count": 4,
   "metadata": {},
   "outputs": [
    {
     "data": {
      "text/plain": [
       "<matplotlib.collections.PathCollection at 0xb4170e4a8>"
      ]
     },
     "execution_count": 4,
     "metadata": {},
     "output_type": "execute_result"
    },
    {
     "data": {
      "image/png": "[encoded data removed]",
      "text/plain": [
       "<Figure size 432x288 with 1 Axes>"
      ]
     },
     "metadata": {
      "needs_background": "light"
     },
     "output_type": "display_data"
    }
   ],
   "source": [
    "plt.scatter(np.linspace(-5, 5, 100), forward_sample['y'])"
   ]
  },
  {
   "cell_type": "code",
   "execution_count": 5,
   "metadata": {},
   "outputs": [],
   "source": [
    "func = model.make_log_prob_function()\n",
    "sigma = tf.placeholder(tf.float32)\n",
    "intercept = tf.placeholder(tf.float32)\n",
    "x_coeff = tf.placeholder(tf.float32)\n",
    "y = tf.placeholder(tf.float32, shape=(100,))\n",
    "logp = func(sigma, intercept, x_coeff, y)\n"
   ]
  },
  {
   "cell_type": "code",
   "execution_count": 6,
   "metadata": {},
   "outputs": [
    {
     "data": {
      "text/plain": [
       "-428.53656"
      ]
     },
     "execution_count": 6,
     "metadata": {},
     "output_type": "execute_result"
    }
   ],
   "source": [
    "feed_dict = {sigma: forward_sample['sigma'], \n",
    "            intercept: forward_sample['Intercept'], \n",
    "            x_coeff: forward_sample['weight'], \n",
    "            y: forward_sample['y']}\n",
    "\n",
    "sess.run(logp, feed_dict=feed_dict)"
   ]
  },
  {
   "cell_type": "code",
   "execution_count": 8,
   "metadata": {
    "scrolled": false
   },
   "outputs": [],
   "source": [
    "import pymc3 as pm3"
   ]
  },
  {
   "cell_type": "code",
   "execution_count": null,
   "metadata": {},
   "outputs": [
    {
     "name": "stderr",
     "output_type": "stream",
     "text": [
      "/anaconda3/envs/GSoC/lib/python3.6/site-packages/theano/gof/cmodule.py:274: DeprecationWarning: SO is deprecated, use EXT_SUFFIX\n",
      "  dist_suffix = distutils.sysconfig.get_config_var(\"SO\")\n",
      "/anaconda3/envs/GSoC/lib/python3.6/site-packages/theano/gof/cmodule.py:274: DeprecationWarning: SO is deprecated, use EXT_SUFFIX\n",
      "  dist_suffix = distutils.sysconfig.get_config_var(\"SO\")\n",
      "/anaconda3/envs/GSoC/lib/python3.6/site-packages/theano/gof/cmodule.py:274: DeprecationWarning: SO is deprecated, use EXT_SUFFIX\n",
      "  dist_suffix = distutils.sysconfig.get_config_var(\"SO\")\n",
      "/anaconda3/envs/GSoC/lib/python3.6/site-packages/theano/gof/cmodule.py:274: DeprecationWarning: SO is deprecated, use EXT_SUFFIX\n",
      "  dist_suffix = distutils.sysconfig.get_config_var(\"SO\")\n",
      "/anaconda3/envs/GSoC/lib/python3.6/site-packages/theano/gof/cmodule.py:274: DeprecationWarning: SO is deprecated, use EXT_SUFFIX\n",
      "  dist_suffix = distutils.sysconfig.get_config_var(\"SO\")\n",
      "/anaconda3/envs/GSoC/lib/python3.6/site-packages/theano/gof/cmodule.py:274: DeprecationWarning: SO is deprecated, use EXT_SUFFIX\n",
      "  dist_suffix = distutils.sysconfig.get_config_var(\"SO\")\n",
      "/anaconda3/envs/GSoC/lib/python3.6/site-packages/theano/gof/cmodule.py:274: DeprecationWarning: SO is deprecated, use EXT_SUFFIX\n",
      "  dist_suffix = distutils.sysconfig.get_config_var(\"SO\")\n",
      "/anaconda3/envs/GSoC/lib/python3.6/site-packages/theano/gof/cmodule.py:274: DeprecationWarning: SO is deprecated, use EXT_SUFFIX\n",
      "  dist_suffix = distutils.sysconfig.get_config_var(\"SO\")\n",
      "/anaconda3/envs/GSoC/lib/python3.6/site-packages/theano/gof/cmodule.py:274: DeprecationWarning: SO is deprecated, use EXT_SUFFIX\n",
      "  dist_suffix = distutils.sysconfig.get_config_var(\"SO\")\n",
      "/anaconda3/envs/GSoC/lib/python3.6/site-packages/theano/gof/cmodule.py:274: DeprecationWarning: SO is deprecated, use EXT_SUFFIX\n",
      "  dist_suffix = distutils.sysconfig.get_config_var(\"SO\")\n",
      "/anaconda3/envs/GSoC/lib/python3.6/site-packages/theano/gof/cmodule.py:274: DeprecationWarning: SO is deprecated, use EXT_SUFFIX\n",
      "  dist_suffix = distutils.sysconfig.get_config_var(\"SO\")\n",
      "/anaconda3/envs/GSoC/lib/python3.6/site-packages/theano/gof/cmodule.py:274: DeprecationWarning: SO is deprecated, use EXT_SUFFIX\n",
      "  dist_suffix = distutils.sysconfig.get_config_var(\"SO\")\n",
      "/anaconda3/envs/GSoC/lib/python3.6/site-packages/theano/gof/cmodule.py:274: DeprecationWarning: SO is deprecated, use EXT_SUFFIX\n",
      "  dist_suffix = distutils.sysconfig.get_config_var(\"SO\")\n",
      "/anaconda3/envs/GSoC/lib/python3.6/site-packages/theano/gof/cmodule.py:274: DeprecationWarning: SO is deprecated, use EXT_SUFFIX\n",
      "  dist_suffix = distutils.sysconfig.get_config_var(\"SO\")\n",
      "/anaconda3/envs/GSoC/lib/python3.6/site-packages/theano/gof/cmodule.py:274: DeprecationWarning: SO is deprecated, use EXT_SUFFIX\n",
      "  dist_suffix = distutils.sysconfig.get_config_var(\"SO\")\n",
      "/anaconda3/envs/GSoC/lib/python3.6/site-packages/theano/gof/cmodule.py:274: DeprecationWarning: SO is deprecated, use EXT_SUFFIX\n",
      "  dist_suffix = distutils.sysconfig.get_config_var(\"SO\")\n",
      "/anaconda3/envs/GSoC/lib/python3.6/site-packages/theano/gof/cmodule.py:274: DeprecationWarning: SO is deprecated, use EXT_SUFFIX\n",
      "  dist_suffix = distutils.sysconfig.get_config_var(\"SO\")\n",
      "/anaconda3/envs/GSoC/lib/python3.6/site-packages/theano/gof/cmodule.py:274: DeprecationWarning: SO is deprecated, use EXT_SUFFIX\n",
      "  dist_suffix = distutils.sysconfig.get_config_var(\"SO\")\n",
      "/anaconda3/envs/GSoC/lib/python3.6/site-packages/theano/gof/cmodule.py:274: DeprecationWarning: SO is deprecated, use EXT_SUFFIX\n",
      "  dist_suffix = distutils.sysconfig.get_config_var(\"SO\")\n",
      "/anaconda3/envs/GSoC/lib/python3.6/site-packages/theano/gof/cmodule.py:274: DeprecationWarning: SO is deprecated, use EXT_SUFFIX\n",
      "  dist_suffix = distutils.sysconfig.get_config_var(\"SO\")\n",
      "/anaconda3/envs/GSoC/lib/python3.6/site-packages/theano/gof/cmodule.py:274: DeprecationWarning: SO is deprecated, use EXT_SUFFIX\n",
      "  dist_suffix = distutils.sysconfig.get_config_var(\"SO\")\n",
      "/anaconda3/envs/GSoC/lib/python3.6/site-packages/theano/gof/cmodule.py:274: DeprecationWarning: SO is deprecated, use EXT_SUFFIX\n",
      "  dist_suffix = distutils.sysconfig.get_config_var(\"SO\")\n",
      "/anaconda3/envs/GSoC/lib/python3.6/site-packages/theano/gof/cmodule.py:274: DeprecationWarning: SO is deprecated, use EXT_SUFFIX\n",
      "  dist_suffix = distutils.sysconfig.get_config_var(\"SO\")\n",
      "/anaconda3/envs/GSoC/lib/python3.6/site-packages/theano/gof/cmodule.py:274: DeprecationWarning: SO is deprecated, use EXT_SUFFIX\n",
      "  dist_suffix = distutils.sysconfig.get_config_var(\"SO\")\n",
      "/anaconda3/envs/GSoC/lib/python3.6/site-packages/theano/gof/cmodule.py:274: DeprecationWarning: SO is deprecated, use EXT_SUFFIX\n",
      "  dist_suffix = distutils.sysconfig.get_config_var(\"SO\")\n",
      "/anaconda3/envs/GSoC/lib/python3.6/site-packages/theano/gof/cmodule.py:274: DeprecationWarning: SO is deprecated, use EXT_SUFFIX\n",
      "  dist_suffix = distutils.sysconfig.get_config_var(\"SO\")\n",
      "/anaconda3/envs/GSoC/lib/python3.6/site-packages/theano/gof/cmodule.py:274: DeprecationWarning: SO is deprecated, use EXT_SUFFIX\n",
      "  dist_suffix = distutils.sysconfig.get_config_var(\"SO\")\n",
      "/anaconda3/envs/GSoC/lib/python3.6/site-packages/theano/gof/cmodule.py:274: DeprecationWarning: SO is deprecated, use EXT_SUFFIX\n",
      "  dist_suffix = distutils.sysconfig.get_config_var(\"SO\")\n",
      "/anaconda3/envs/GSoC/lib/python3.6/site-packages/theano/gof/cmodule.py:274: DeprecationWarning: SO is deprecated, use EXT_SUFFIX\n",
      "  dist_suffix = distutils.sysconfig.get_config_var(\"SO\")\n",
      "/anaconda3/envs/GSoC/lib/python3.6/site-packages/theano/gof/cmodule.py:274: DeprecationWarning: SO is deprecated, use EXT_SUFFIX\n",
      "  dist_suffix = distutils.sysconfig.get_config_var(\"SO\")\n",
      "/anaconda3/envs/GSoC/lib/python3.6/site-packages/theano/gof/cmodule.py:274: DeprecationWarning: SO is deprecated, use EXT_SUFFIX\n",
      "  dist_suffix = distutils.sysconfig.get_config_var(\"SO\")\n",
      "/anaconda3/envs/GSoC/lib/python3.6/site-packages/theano/gof/cmodule.py:274: DeprecationWarning: SO is deprecated, use EXT_SUFFIX\n",
      "  dist_suffix = distutils.sysconfig.get_config_var(\"SO\")\n",
      "/anaconda3/envs/GSoC/lib/python3.6/site-packages/theano/gof/cmodule.py:274: DeprecationWarning: SO is deprecated, use EXT_SUFFIX\n",
      "  dist_suffix = distutils.sysconfig.get_config_var(\"SO\")\n",
      "/anaconda3/envs/GSoC/lib/python3.6/site-packages/theano/gof/cmodule.py:274: DeprecationWarning: SO is deprecated, use EXT_SUFFIX\n",
      "  dist_suffix = distutils.sysconfig.get_config_var(\"SO\")\n",
      "/anaconda3/envs/GSoC/lib/python3.6/site-packages/theano/gof/cmodule.py:274: DeprecationWarning: SO is deprecated, use EXT_SUFFIX\n",
      "  dist_suffix = distutils.sysconfig.get_config_var(\"SO\")\n"
     ]
    }
   ],
   "source": [
    "n_points = 100\n",
    "with pm3.Model() as model3: \n",
    "    # Define priors\n",
    "    sigma = pm3.HalfNormal('sigma', sd = 10, observed=forward_sample['sigma'])\n",
    "    intercept = pm3.Normal('Intercept', 0, 10, observed=forward_sample['Intercept'])\n",
    "    x_coeff = pm3.Normal('weight', 0, 5, observed=forward_sample['weight'])\n",
    "    x = np.linspace(-5, 5, n_points)\n",
    "    \n",
    "    # Define likelihood\n",
    "    y = pm3.Normal('y', intercept + x_coeff * x, sigma, observed=forward_sample['y'])\n",
    "    \n",
    "model3.logp()"
   ]
  },
  {
   "cell_type": "code",
   "execution_count": null,
   "metadata": {},
   "outputs": [],
   "source": []
  },
  {
   "cell_type": "code",
   "execution_count": null,
   "metadata": {},
   "outputs": [],
   "source": [
    "forward_sample['y']"
   ]
  },
  {
   "cell_type": "code",
   "execution_count": null,
   "metadata": {},
   "outputs": [],
   "source": []
  }
 ],
 "metadata": {
  "kernelspec": {
   "display_name": "GSoC",
   "language": "python",
   "name": "gsoc"
  },
  "language_info": {
   "codemirror_mode": {
    "name": "ipython",
    "version": 3
   },
   "file_extension": ".py",
   "mimetype": "text/x-python",
   "name": "python",
   "nbconvert_exporter": "python",
   "pygments_lexer": "ipython3",
   "version": "3.6.6"
  }
 },
 "nbformat": 4,
 "nbformat_minor": 2
}
