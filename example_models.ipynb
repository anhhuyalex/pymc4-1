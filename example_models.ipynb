{
 "cells": [
  {
   "cell_type": "code",
   "execution_count": 1,
   "metadata": {},
   "outputs": [],
   "source": [
    "import pymc4 as pm\n",
    "import tensorflow as tf\n",
    "import numpy as np\n",
    "import matplotlib.pyplot as plt"
   ]
  },
  {
   "cell_type": "code",
   "execution_count": 2,
   "metadata": {},
   "outputs": [],
   "source": [
    "config = tf.ConfigProto()\n",
    "config.graph_options.optimizer_options.global_jit_level = (\n",
    "    tf.OptimizerOptions.ON_1)\n",
    "config.intra_op_parallelism_threads = 1\n",
    "config.inter_op_parallelism_threads = 1\n",
    "sess = tf.InteractiveSession(config=config)"
   ]
  },
  {
   "cell_type": "markdown",
   "metadata": {},
   "source": [
    "# Linear Regression"
   ]
  },
  {
   "cell_type": "code",
   "execution_count": 3,
   "metadata": {},
   "outputs": [
    {
     "data": {
      "text/plain": [
       "{'sigma': 2.1540835,\n",
       " 'Intercept': -9.8933735,\n",
       " 'weight': -3.5021636,\n",
       " 'y': array([  6.3240542 ,   4.9349074 ,   8.008871  ,   8.025118  ,\n",
       "          7.7940035 ,   6.538599  ,   4.095637  ,   2.8069854 ,\n",
       "          5.6411905 ,   5.3767724 ,   5.8603096 ,   6.3269186 ,\n",
       "          1.282798  ,   2.346976  ,   5.200045  ,  -0.24768591,\n",
       "          1.320301  ,   0.17908072,   2.1627207 ,  -4.298492  ,\n",
       "          3.3085706 ,   0.31804517,   0.06954949,   0.9330467 ,\n",
       "         -2.7704456 ,  -2.3848624 ,  -1.7321088 ,   1.8835077 ,\n",
       "         -3.1845412 ,  -4.1842594 ,  -6.15857   ,  -1.2500737 ,\n",
       "         -1.6041977 ,  -3.5481005 ,  -0.39644146,  -4.9611244 ,\n",
       "         -4.6241713 ,  -4.8972197 ,  -4.4516897 ,  -8.6029005 ,\n",
       "         -4.6847224 ,  -6.548435  ,  -7.9896717 ,  -5.5331616 ,\n",
       "         -9.678636  ,  -8.76811   , -10.322547  ,  -8.529482  ,\n",
       "        -13.830505  ,  -9.194611  , -11.62426   , -14.712478  ,\n",
       "        -13.760939  , -12.028528  ,  -8.718004  , -11.343339  ,\n",
       "        -13.738695  ,  -8.529203  , -10.67289   , -14.604604  ,\n",
       "        -15.823771  , -12.726198  , -13.738089  , -12.990406  ,\n",
       "        -12.208921  , -14.516115  , -14.054196  , -13.440498  ,\n",
       "        -15.679026  , -17.61018   , -15.739401  , -19.062012  ,\n",
       "        -17.907812  , -16.001045  , -14.55852   , -17.055864  ,\n",
       "        -17.993483  , -22.618439  , -20.955698  , -17.890491  ,\n",
       "        -26.06378   , -22.167261  , -25.178408  , -22.810581  ,\n",
       "        -21.963625  , -22.250328  , -24.243122  , -23.897312  ,\n",
       "        -20.815645  , -23.859848  , -27.197212  , -19.394196  ,\n",
       "        -24.853336  , -24.6965    , -27.192379  , -26.738123  ,\n",
       "        -28.823229  , -27.944614  , -25.271936  , -25.542585  ],\n",
       "       dtype=float32)}"
      ]
     },
     "execution_count": 3,
     "metadata": {},
     "output_type": "execute_result"
    }
   ],
   "source": [
    "# Logp calculation for linear regression \n",
    "@pm.model\n",
    "def linreg(sd_prior='half_normal', n_points = 100):    \n",
    "    # Define priors\n",
    "    sigma = pm.HalfNormal('sigma', scale = 10)\n",
    "    intercept = pm.Normal('Intercept', 0, scale=10)\n",
    "    x_coeff = pm.Normal('weight', 0, scale = 5)\n",
    "    x = np.linspace(-5, 5, n_points)\n",
    "    \n",
    "    # Define likelihood\n",
    "    y = pm.Normal('y', loc=intercept + x_coeff * x, scale=sigma)\n",
    "    \n",
    "    \n",
    "model = linreg.configure()\n",
    "\n",
    "forward_sample = sess.run(model.forward_sample())\n",
    "\n",
    "forward_sample"
   ]
  },
  {
   "cell_type": "code",
   "execution_count": 4,
   "metadata": {},
   "outputs": [
    {
     "data": {
      "text/plain": [
       "<matplotlib.collections.PathCollection at 0xb3cbc2278>"
      ]
     },
     "execution_count": 4,
     "metadata": {},
     "output_type": "execute_result"
    },
    {
     "data": {
      "image/png": "[encoded data removed]",
      "text/plain": [
       "<Figure size 432x288 with 1 Axes>"
      ]
     },
     "metadata": {
      "needs_background": "light"
     },
     "output_type": "display_data"
    }
   ],
   "source": [
    "plt.scatter(np.linspace(-5, 5, 100), forward_sample['y'])"
   ]
  },
  {
   "cell_type": "code",
   "execution_count": 5,
   "metadata": {},
   "outputs": [],
   "source": [
    "func = model.make_log_prob_function()\n",
    "sigma = tf.placeholder(tf.float32)\n",
    "intercept = tf.placeholder(tf.float32)\n",
    "x_coeff = tf.placeholder(tf.float32)\n",
    "y = tf.placeholder(tf.float32, shape=(100,))\n",
    "logp = func(sigma, intercept, x_coeff, y)\n"
   ]
  },
  {
   "cell_type": "code",
   "execution_count": 6,
   "metadata": {},
   "outputs": [
    {
     "data": {
      "text/plain": [
       "-225.04695"
      ]
     },
     "execution_count": 6,
     "metadata": {},
     "output_type": "execute_result"
    }
   ],
   "source": [
    "feed_dict = {sigma: forward_sample['sigma'], \n",
    "            intercept: forward_sample['Intercept'], \n",
    "            x_coeff: forward_sample['weight'], \n",
    "            y: forward_sample['y']}\n",
    "\n",
    "sess.run(logp, feed_dict=feed_dict)"
   ]
  },
  {
   "cell_type": "code",
   "execution_count": 7,
   "metadata": {
    "scrolled": false
   },
   "outputs": [
    {
     "name": "stderr",
     "output_type": "stream",
     "text": [
      "/anaconda3/envs/GSoC/lib/python3.6/subprocess.py:766: ResourceWarning: subprocess 2388 is still running\n",
      "  ResourceWarning, source=self)\n",
      "/anaconda3/envs/GSoC/lib/python3.6/site-packages/theano/misc/cpucount.py:48: ResourceWarning: unclosed file <_io.TextIOWrapper name=59 encoding='UTF-8'>\n",
      "  num = int(os.popen('sysctl -n hw.ncpu').read())\n",
      "/anaconda3/envs/GSoC/lib/python3.6/site-packages/theano/gof/lazylinker_c.py:129: ResourceWarning: unclosed file <_io.TextIOWrapper name='/anaconda3/envs/GSoC/lib/python3.6/site-packages/theano/gof/c_code/lazylinker_c.c' mode='r' encoding='UTF-8'>\n",
      "  code = open(cfile).read()\n",
      "/anaconda3/envs/GSoC/lib/python3.6/site-packages/theano/gof/cmodule.py:274: DeprecationWarning: SO is deprecated, use EXT_SUFFIX\n",
      "  dist_suffix = distutils.sysconfig.get_config_var(\"SO\")\n",
      "WARNING (theano.configdefaults): install mkl with `conda install mkl-service`: No module named 'mkl'\n",
      "/anaconda3/envs/GSoC/lib/python3.6/site-packages/theano/tests/main.py:6: DeprecationWarning: Importing from numpy.testing.nosetester is deprecated, import from numpy.testing instead.\n",
      "  from numpy.testing.nosetester import NoseTester\n"
     ]
    }
   ],
   "source": [
    "import pymc3 as pm3"
   ]
  },
  {
   "cell_type": "code",
   "execution_count": 8,
   "metadata": {
    "scrolled": false
   },
   "outputs": [
    {
     "name": "stderr",
     "output_type": "stream",
     "text": [
      "/anaconda3/envs/GSoC/lib/python3.6/site-packages/theano/gof/cmodule.py:274: DeprecationWarning: SO is deprecated, use EXT_SUFFIX\n",
      "  dist_suffix = distutils.sysconfig.get_config_var(\"SO\")\n",
      "/anaconda3/envs/GSoC/lib/python3.6/site-packages/theano/gof/cmodule.py:274: DeprecationWarning: SO is deprecated, use EXT_SUFFIX\n",
      "  dist_suffix = distutils.sysconfig.get_config_var(\"SO\")\n",
      "/anaconda3/envs/GSoC/lib/python3.6/site-packages/theano/gof/cmodule.py:274: DeprecationWarning: SO is deprecated, use EXT_SUFFIX\n",
      "  dist_suffix = distutils.sysconfig.get_config_var(\"SO\")\n",
      "/anaconda3/envs/GSoC/lib/python3.6/site-packages/theano/gof/cmodule.py:274: DeprecationWarning: SO is deprecated, use EXT_SUFFIX\n",
      "  dist_suffix = distutils.sysconfig.get_config_var(\"SO\")\n",
      "/anaconda3/envs/GSoC/lib/python3.6/site-packages/theano/gof/cmodule.py:274: DeprecationWarning: SO is deprecated, use EXT_SUFFIX\n",
      "  dist_suffix = distutils.sysconfig.get_config_var(\"SO\")\n",
      "/anaconda3/envs/GSoC/lib/python3.6/site-packages/theano/gof/cmodule.py:274: DeprecationWarning: SO is deprecated, use EXT_SUFFIX\n",
      "  dist_suffix = distutils.sysconfig.get_config_var(\"SO\")\n",
      "/anaconda3/envs/GSoC/lib/python3.6/site-packages/theano/gof/cmodule.py:274: DeprecationWarning: SO is deprecated, use EXT_SUFFIX\n",
      "  dist_suffix = distutils.sysconfig.get_config_var(\"SO\")\n",
      "/anaconda3/envs/GSoC/lib/python3.6/site-packages/theano/gof/cmodule.py:274: DeprecationWarning: SO is deprecated, use EXT_SUFFIX\n",
      "  dist_suffix = distutils.sysconfig.get_config_var(\"SO\")\n",
      "/anaconda3/envs/GSoC/lib/python3.6/site-packages/theano/gof/cmodule.py:274: DeprecationWarning: SO is deprecated, use EXT_SUFFIX\n",
      "  dist_suffix = distutils.sysconfig.get_config_var(\"SO\")\n",
      "/anaconda3/envs/GSoC/lib/python3.6/site-packages/theano/gof/cmodule.py:274: DeprecationWarning: SO is deprecated, use EXT_SUFFIX\n",
      "  dist_suffix = distutils.sysconfig.get_config_var(\"SO\")\n",
      "/anaconda3/envs/GSoC/lib/python3.6/site-packages/theano/gof/cmodule.py:274: DeprecationWarning: SO is deprecated, use EXT_SUFFIX\n",
      "  dist_suffix = distutils.sysconfig.get_config_var(\"SO\")\n",
      "/anaconda3/envs/GSoC/lib/python3.6/site-packages/theano/gof/cmodule.py:274: DeprecationWarning: SO is deprecated, use EXT_SUFFIX\n",
      "  dist_suffix = distutils.sysconfig.get_config_var(\"SO\")\n",
      "/anaconda3/envs/GSoC/lib/python3.6/site-packages/theano/gof/cmodule.py:274: DeprecationWarning: SO is deprecated, use EXT_SUFFIX\n",
      "  dist_suffix = distutils.sysconfig.get_config_var(\"SO\")\n",
      "/anaconda3/envs/GSoC/lib/python3.6/site-packages/theano/gof/cmodule.py:274: DeprecationWarning: SO is deprecated, use EXT_SUFFIX\n",
      "  dist_suffix = distutils.sysconfig.get_config_var(\"SO\")\n",
      "/anaconda3/envs/GSoC/lib/python3.6/site-packages/theano/gof/cmodule.py:274: DeprecationWarning: SO is deprecated, use EXT_SUFFIX\n",
      "  dist_suffix = distutils.sysconfig.get_config_var(\"SO\")\n",
      "/anaconda3/envs/GSoC/lib/python3.6/site-packages/theano/gof/cmodule.py:274: DeprecationWarning: SO is deprecated, use EXT_SUFFIX\n",
      "  dist_suffix = distutils.sysconfig.get_config_var(\"SO\")\n",
      "/anaconda3/envs/GSoC/lib/python3.6/site-packages/theano/gof/cmodule.py:274: DeprecationWarning: SO is deprecated, use EXT_SUFFIX\n",
      "  dist_suffix = distutils.sysconfig.get_config_var(\"SO\")\n",
      "/anaconda3/envs/GSoC/lib/python3.6/site-packages/theano/gof/cmodule.py:274: DeprecationWarning: SO is deprecated, use EXT_SUFFIX\n",
      "  dist_suffix = distutils.sysconfig.get_config_var(\"SO\")\n",
      "/anaconda3/envs/GSoC/lib/python3.6/site-packages/theano/gof/cmodule.py:274: DeprecationWarning: SO is deprecated, use EXT_SUFFIX\n",
      "  dist_suffix = distutils.sysconfig.get_config_var(\"SO\")\n",
      "/anaconda3/envs/GSoC/lib/python3.6/site-packages/theano/gof/cmodule.py:274: DeprecationWarning: SO is deprecated, use EXT_SUFFIX\n",
      "  dist_suffix = distutils.sysconfig.get_config_var(\"SO\")\n",
      "/anaconda3/envs/GSoC/lib/python3.6/site-packages/theano/gof/cmodule.py:274: DeprecationWarning: SO is deprecated, use EXT_SUFFIX\n",
      "  dist_suffix = distutils.sysconfig.get_config_var(\"SO\")\n",
      "/anaconda3/envs/GSoC/lib/python3.6/site-packages/theano/gof/cmodule.py:274: DeprecationWarning: SO is deprecated, use EXT_SUFFIX\n",
      "  dist_suffix = distutils.sysconfig.get_config_var(\"SO\")\n",
      "/anaconda3/envs/GSoC/lib/python3.6/site-packages/theano/gof/cmodule.py:274: DeprecationWarning: SO is deprecated, use EXT_SUFFIX\n",
      "  dist_suffix = distutils.sysconfig.get_config_var(\"SO\")\n",
      "/anaconda3/envs/GSoC/lib/python3.6/site-packages/theano/gof/cmodule.py:274: DeprecationWarning: SO is deprecated, use EXT_SUFFIX\n",
      "  dist_suffix = distutils.sysconfig.get_config_var(\"SO\")\n",
      "/anaconda3/envs/GSoC/lib/python3.6/site-packages/theano/gof/cmodule.py:274: DeprecationWarning: SO is deprecated, use EXT_SUFFIX\n",
      "  dist_suffix = distutils.sysconfig.get_config_var(\"SO\")\n",
      "/anaconda3/envs/GSoC/lib/python3.6/site-packages/theano/gof/cmodule.py:274: DeprecationWarning: SO is deprecated, use EXT_SUFFIX\n",
      "  dist_suffix = distutils.sysconfig.get_config_var(\"SO\")\n",
      "/anaconda3/envs/GSoC/lib/python3.6/site-packages/theano/gof/cmodule.py:274: DeprecationWarning: SO is deprecated, use EXT_SUFFIX\n",
      "  dist_suffix = distutils.sysconfig.get_config_var(\"SO\")\n",
      "/anaconda3/envs/GSoC/lib/python3.6/site-packages/theano/gof/cmodule.py:274: DeprecationWarning: SO is deprecated, use EXT_SUFFIX\n",
      "  dist_suffix = distutils.sysconfig.get_config_var(\"SO\")\n",
      "/anaconda3/envs/GSoC/lib/python3.6/site-packages/theano/gof/cmodule.py:274: DeprecationWarning: SO is deprecated, use EXT_SUFFIX\n",
      "  dist_suffix = distutils.sysconfig.get_config_var(\"SO\")\n",
      "/anaconda3/envs/GSoC/lib/python3.6/site-packages/theano/gof/cmodule.py:274: DeprecationWarning: SO is deprecated, use EXT_SUFFIX\n",
      "  dist_suffix = distutils.sysconfig.get_config_var(\"SO\")\n",
      "/anaconda3/envs/GSoC/lib/python3.6/site-packages/theano/gof/cmodule.py:274: DeprecationWarning: SO is deprecated, use EXT_SUFFIX\n",
      "  dist_suffix = distutils.sysconfig.get_config_var(\"SO\")\n",
      "/anaconda3/envs/GSoC/lib/python3.6/site-packages/theano/gof/cmodule.py:274: DeprecationWarning: SO is deprecated, use EXT_SUFFIX\n",
      "  dist_suffix = distutils.sysconfig.get_config_var(\"SO\")\n",
      "/anaconda3/envs/GSoC/lib/python3.6/site-packages/theano/gof/cmodule.py:274: DeprecationWarning: SO is deprecated, use EXT_SUFFIX\n",
      "  dist_suffix = distutils.sysconfig.get_config_var(\"SO\")\n",
      "/anaconda3/envs/GSoC/lib/python3.6/site-packages/theano/gof/cmodule.py:274: DeprecationWarning: SO is deprecated, use EXT_SUFFIX\n",
      "  dist_suffix = distutils.sysconfig.get_config_var(\"SO\")\n",
      "/anaconda3/envs/GSoC/lib/python3.6/site-packages/theano/gof/cmodule.py:274: DeprecationWarning: SO is deprecated, use EXT_SUFFIX\n",
      "  dist_suffix = distutils.sysconfig.get_config_var(\"SO\")\n",
      "/anaconda3/envs/GSoC/lib/python3.6/site-packages/theano/gof/cmodule.py:274: DeprecationWarning: SO is deprecated, use EXT_SUFFIX\n",
      "  dist_suffix = distutils.sysconfig.get_config_var(\"SO\")\n",
      "/anaconda3/envs/GSoC/lib/python3.6/site-packages/theano/gof/cmodule.py:274: DeprecationWarning: SO is deprecated, use EXT_SUFFIX\n",
      "  dist_suffix = distutils.sysconfig.get_config_var(\"SO\")\n",
      "/anaconda3/envs/GSoC/lib/python3.6/site-packages/theano/gof/cmodule.py:274: DeprecationWarning: SO is deprecated, use EXT_SUFFIX\n",
      "  dist_suffix = distutils.sysconfig.get_config_var(\"SO\")\n",
      "/anaconda3/envs/GSoC/lib/python3.6/site-packages/theano/gof/cmodule.py:274: DeprecationWarning: SO is deprecated, use EXT_SUFFIX\n",
      "  dist_suffix = distutils.sysconfig.get_config_var(\"SO\")\n"
     ]
    },
    {
     "data": {
      "text/plain": [
       "array(-225.04694534)"
      ]
     },
     "execution_count": 8,
     "metadata": {},
     "output_type": "execute_result"
    }
   ],
   "source": [
    "n_points = 100\n",
    "with pm3.Model() as model3: \n",
    "    # Define priors\n",
    "    sigma = pm3.HalfNormal('sigma', sd = 10, observed=forward_sample['sigma'])\n",
    "    intercept = pm3.Normal('Intercept', 0, 10, observed=forward_sample['Intercept'])\n",
    "    x_coeff = pm3.Normal('weight', 0, 5, observed=forward_sample['weight'])\n",
    "    x = np.linspace(-5, 5, n_points)\n",
    "    \n",
    "    # Define likelihood\n",
    "    y = pm3.Normal('y', intercept + x_coeff * x, sigma, observed=forward_sample['y'])\n",
    "    \n",
    "model3.logp()"
   ]
  },
  {
   "cell_type": "markdown",
   "metadata": {},
   "source": [
    "# Centered-Eight "
   ]
  },
  {
   "cell_type": "code",
   "execution_count": 9,
   "metadata": {},
   "outputs": [
    {
     "data": {
      "text/plain": [
       "{'mu': -0.10470855,\n",
       " 'tau': 28.388956,\n",
       " 'theta': array([ -5.917181,  35.44701 ,  -6.457119, -55.13451 ,  10.85443 ,\n",
       "        -21.278284, -21.195353,   6.901861], dtype=float32),\n",
       " 'y': array([ -1.6446066,  27.70166  , -15.382467 , -47.940907 ,  12.278376 ,\n",
       "        -25.154694 , -40.317635 ,  18.134832 ], dtype=float32)}"
      ]
     },
     "execution_count": 9,
     "metadata": {},
     "output_type": "execute_result"
    }
   ],
   "source": [
    "schools = np.array([28.,  8., -3.,  7., -1.,  1., 18., 12.])\n",
    "sigma = tf.to_float(np.array([15., 10., 16., 11.,  9., 11., 10., 18.]))\n",
    "n_points = 8\n",
    "\n",
    "@pm.model\n",
    "def centered_eight(n_points = n_points):    \n",
    "    # Define priors\n",
    "    mu = pm.Normal('mu', loc = 0, scale = 5)\n",
    "    tau = pm.HalfCauchy('tau', loc = 0, scale = 5)\n",
    "    theta = pm.Normal('theta', loc = tf.fill([8], mu.as_tensor()), scale = tf.fill([8], tau.as_tensor()))\n",
    "    # Awkward syntax: Feature?\n",
    "    \n",
    "    # Define likelihood\n",
    "    y = pm.Normal('y', loc = theta, scale = sigma)\n",
    "    \n",
    "model = centered_eight.configure()\n",
    "\n",
    "forward_sample = sess.run(model.forward_sample())\n",
    "\n",
    "forward_sample"
   ]
  },
  {
   "cell_type": "code",
   "execution_count": 10,
   "metadata": {},
   "outputs": [],
   "source": [
    "func = model.make_log_prob_function()\n",
    "mu = tf.placeholder(tf.float32)\n",
    "tau = tf.placeholder(tf.float32)\n",
    "theta = tf.placeholder(tf.float32, shape=(n_points,))\n",
    "y = tf.placeholder(tf.float32, shape=(n_points,))\n",
    "logp = func(mu, tau, theta, y)"
   ]
  },
  {
   "cell_type": "code",
   "execution_count": null,
   "metadata": {},
   "outputs": [],
   "source": [
    "feed_dict = {mu: forward_sample['mu'], \n",
    "            tau: forward_sample['tau'], \n",
    "            theta: forward_sample['theta'], \n",
    "            y: schools}\n",
    "\n",
    "sess.run(logp, feed_dict=feed_dict)"
   ]
  },
  {
   "cell_type": "code",
   "execution_count": null,
   "metadata": {
    "scrolled": false
   },
   "outputs": [],
   "source": [
    "sigma = np.array([15., 10., 16., 11.,  9., 11., 10., 18.])\n",
    "with pm3.Model() as model3: \n",
    "    # Define priors\n",
    "    mu = pm3.Normal('mu', 0, sd = 5, observed=forward_sample['mu'])\n",
    "    tau = pm3.HalfCauchy('Intercept', 5, observed=forward_sample['tau'])\n",
    "    theta = pm3.Normal('weight', mu, tau, observed=forward_sample['theta'])\n",
    "    \n",
    "    # Define likelihood\n",
    "    y = pm3.Normal('y', theta, sigma, observed=schools)\n",
    "    \n",
    "model3.logp()"
   ]
  }
 ],
 "metadata": {
  "kernelspec": {
   "display_name": "GSoC",
   "language": "python",
   "name": "gsoc"
  },
  "language_info": {
   "codemirror_mode": {
    "name": "ipython",
    "version": 3
   },
   "file_extension": ".py",
   "mimetype": "text/x-python",
   "name": "python",
   "nbconvert_exporter": "python",
   "pygments_lexer": "ipython3",
   "version": "3.6.6"
  }
 },
 "nbformat": 4,
 "nbformat_minor": 2
}
