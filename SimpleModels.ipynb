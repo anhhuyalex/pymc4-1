{
 "cells": [
  {
   "cell_type": "markdown",
   "metadata": {},
   "source": [
    "# Simple Model"
   ]
  },
  {
   "cell_type": "code",
   "execution_count": 1,
   "metadata": {},
   "outputs": [],
   "source": [
    "import tensorflow as tf\n",
    "import numpy as np\n",
    "import matplotlib.pyplot as plt"
   ]
  },
  {
   "cell_type": "code",
   "execution_count": 2,
   "metadata": {},
   "outputs": [],
   "source": [
    "%load_ext autoreload\n",
    "%autoreload 2\n",
    "import pymc4 as pm"
   ]
  },
  {
   "cell_type": "code",
   "execution_count": 3,
   "metadata": {},
   "outputs": [],
   "source": [
    "sess = tf.InteractiveSession()"
   ]
  },
  {
   "cell_type": "code",
   "execution_count": 4,
   "metadata": {},
   "outputs": [],
   "source": [
    "@pm.model\n",
    "def simple_model():\n",
    "    mu = pm.Normal('mu', loc=2, scale=0)\n",
    "    pm.Normal('y_1', mu, scale=0)"
   ]
  },
  {
   "cell_type": "markdown",
   "metadata": {},
   "source": [
    "## Model is defined by not executed yet\n",
    "Tensorflow graph should be empty"
   ]
  },
  {
   "cell_type": "code",
   "execution_count": 5,
   "metadata": {},
   "outputs": [],
   "source": [
    "def check_tensorflow_graph():\n",
    "    writer = tf.summary.FileWriter('.')\n",
    "    writer.add_graph(tf.get_default_graph())\n",
    "    writer.flush()\n",
    "    return [n.name for n in tf.get_default_graph().as_graph_def().node]"
   ]
  },
  {
   "cell_type": "code",
   "execution_count": 6,
   "metadata": {},
   "outputs": [
    {
     "data": {
      "text/plain": [
       "[]"
      ]
     },
     "execution_count": 6,
     "metadata": {},
     "output_type": "execute_result"
    }
   ],
   "source": [
    "check_tensorflow_graph()"
   ]
  },
  {
   "cell_type": "markdown",
   "metadata": {},
   "source": [
    "## Run configure"
   ]
  },
  {
   "cell_type": "code",
   "execution_count": 7,
   "metadata": {},
   "outputs": [],
   "source": [
    "model = simple_model.configure()"
   ]
  },
  {
   "cell_type": "code",
   "execution_count": 8,
   "metadata": {},
   "outputs": [
    {
     "data": {
      "text/plain": [
       "['mu/loc',\n",
       " 'mu/scale',\n",
       " 'mu/Identity',\n",
       " 'mu/Identity_1',\n",
       " 'mu/sample/sample_shape',\n",
       " 'mu/batch_shape_tensor/batch_shape',\n",
       " 'mu/sample/concat/values_0',\n",
       " 'mu/sample/concat/axis',\n",
       " 'mu/sample/concat',\n",
       " 'mu/sample/random_normal/mean',\n",
       " 'mu/sample/random_normal/stddev',\n",
       " 'mu/sample/random_normal/RandomStandardNormal',\n",
       " 'mu/sample/random_normal/mul',\n",
       " 'mu/sample/random_normal',\n",
       " 'mu/sample/mul',\n",
       " 'mu/sample/add',\n",
       " 'mu/sample/Shape',\n",
       " 'mu/sample/strided_slice/stack',\n",
       " 'mu/sample/strided_slice/stack_1',\n",
       " 'mu/sample/strided_slice/stack_2',\n",
       " 'mu/sample/strided_slice',\n",
       " 'mu/sample/concat_1/axis',\n",
       " 'mu/sample/concat_1',\n",
       " 'mu/sample/Reshape',\n",
       " 'y_1/scale',\n",
       " 'y_1/Identity',\n",
       " 'y_1/Identity_1']"
      ]
     },
     "execution_count": 8,
     "metadata": {},
     "output_type": "execute_result"
    }
   ],
   "source": [
    "check_tensorflow_graph()"
   ]
  }
 ],
 "metadata": {
  "kernelspec": {
   "display_name": "Python 3",
   "language": "python",
   "name": "python3"
  },
  "language_info": {
   "codemirror_mode": {
    "name": "ipython",
    "version": 3
   },
   "file_extension": ".py",
   "mimetype": "text/x-python",
   "name": "python",
   "nbconvert_exporter": "python",
   "pygments_lexer": "ipython3",
   "version": "3.7.0"
  }
 },
 "nbformat": 4,
 "nbformat_minor": 2
}
